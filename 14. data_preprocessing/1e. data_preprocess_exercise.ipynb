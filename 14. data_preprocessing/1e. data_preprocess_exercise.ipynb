{
 "cells": [
  {
   "cell_type": "markdown",
   "id": "cec64a39",
   "metadata": {},
   "source": [
    "##### Problem 1 : Use the iris dataset and apply the pre-processing steps wherever required.  \n",
    "https://archive.ics.uci.edu/dataset/53/iris"
   ]
  },
  {
   "cell_type": "code",
   "execution_count": null,
   "id": "8776c42f",
   "metadata": {
    "vscode": {
     "languageId": "plaintext"
    }
   },
   "outputs": [],
   "source": []
  },
  {
   "cell_type": "code",
   "execution_count": null,
   "id": "0ba065c8",
   "metadata": {
    "vscode": {
     "languageId": "plaintext"
    }
   },
   "outputs": [],
   "source": []
  },
  {
   "cell_type": "markdown",
   "id": "003a426a",
   "metadata": {},
   "source": [
    "##### Problem 2 : Use the heart disease dataset, check the data and see if any cleaning required, apply the pre-processing steps and generate the training and test sets\n",
    "https://archive.ics.uci.edu/dataset/45/heart+disease"
   ]
  },
  {
   "cell_type": "code",
   "execution_count": null,
   "id": "3cc18a68",
   "metadata": {
    "vscode": {
     "languageId": "plaintext"
    }
   },
   "outputs": [],
   "source": []
  },
  {
   "cell_type": "markdown",
   "id": "32c48a1d",
   "metadata": {},
   "source": [
    "##### Use the pima india dataset, check the data and see if any cleaning required, apply the pre-processing steps and generate the training and test sets\n",
    "https://www.kaggle.com/code/mragpavank/pima-indians-diabetes-database/input"
   ]
  },
  {
   "cell_type": "markdown",
   "id": "f295023e",
   "metadata": {},
   "source": [
    "##### Use the bike sharing dataset, go through the details mentioned in ReadMe file, check the data and see if any cleaning required, apply the pre-processing steps and generate the training and test sets. Dataset is download and kept under datasets directory. You may refer it here as well - https://archive.ics.uci.edu/dataset/275/bike+sharing+dataset\n"
   ]
  },
  {
   "cell_type": "markdown",
   "id": "7fedd427",
   "metadata": {},
   "source": []
  }
 ],
 "metadata": {
  "language_info": {
   "name": "python"
  }
 },
 "nbformat": 4,
 "nbformat_minor": 5
}
