{
 "cells": [
  {
   "cell_type": "code",
   "execution_count": 1,
   "metadata": {},
   "outputs": [
    {
     "name": "stdout",
     "output_type": "stream",
     "text": [
      "<class 'str'>\n",
      "Hello Everyone !\n"
     ]
    }
   ],
   "source": [
    "name = \"Hello Everyone !\"\n",
    "print(type(name))\n",
    "print(name)"
   ]
  },
  {
   "cell_type": "code",
   "execution_count": 3,
   "metadata": {},
   "outputs": [
    {
     "name": "stdout",
     "output_type": "stream",
     "text": [
      "<class 'str'>\n",
      "Hello Everyone !\n"
     ]
    }
   ],
   "source": [
    "name = 'Hello Everyone !'\n",
    "print(type(name))\n",
    "print(name)"
   ]
  },
  {
   "cell_type": "code",
   "execution_count": 4,
   "metadata": {},
   "outputs": [
    {
     "name": "stdout",
     "output_type": "stream",
     "text": [
      "<class 'str'>\n",
      "Hello Everyone !\n"
     ]
    }
   ],
   "source": [
    "name = \"Hello \" \\\n",
    "       \"Everyone !\"\n",
    "print(type(name))\n",
    "print(name)"
   ]
  },
  {
   "cell_type": "code",
   "execution_count": 6,
   "metadata": {},
   "outputs": [
    {
     "name": "stdout",
     "output_type": "stream",
     "text": [
      "<class 'str'>\n",
      "Hello \n",
      "Everyone !\n"
     ]
    }
   ],
   "source": [
    "name = '''Hello \n",
    "Everyone !'''\n",
    "print(type(name))\n",
    "print(name)"
   ]
  },
  {
   "cell_type": "code",
   "execution_count": 7,
   "metadata": {},
   "outputs": [
    {
     "name": "stdout",
     "output_type": "stream",
     "text": [
      "\n",
      "x = input(\"Please enter your name : \") # Pause the program + wait for input\n",
      "print(\"User Input Is :\", x)\n",
      "print(type(x)) \n"
     ]
    }
   ],
   "source": [
    "program = '''\n",
    "x = input(\"Please enter your name : \") # Pause the program + wait for input\n",
    "print(\"User Input Is :\", x)\n",
    "print(type(x)) '''\n",
    "\n",
    "print(program)"
   ]
  },
  {
   "cell_type": "code",
   "execution_count": 20,
   "metadata": {},
   "outputs": [
    {
     "name": "stdout",
     "output_type": "stream",
     "text": [
      "W\n",
      "e\n",
      "l\n",
      "c\n",
      "o\n",
      "m\n",
      "Length: 22\n",
      "21\n",
      "!\n",
      "!\n",
      "!\n",
      " \n",
      "t\n",
      "W\n"
     ]
    }
   ],
   "source": [
    "# Accesing the characters\n",
    "# 0-based indexing\n",
    "\n",
    "greet = \"Welcome to the event !\"\n",
    "\n",
    "print(greet[0]) # first character\n",
    "print(greet[1])\n",
    "print(greet[2])\n",
    "print(greet[3])\n",
    "print(greet[4])\n",
    "print(greet[5])\n",
    "\n",
    "# Last character (+ve indexing )\n",
    "length = len(greet)\n",
    "print(\"Length:\", length)\n",
    "\n",
    "last_index = length-1\n",
    "print(last_index)\n",
    "\n",
    "print(greet[last_index])\n",
    "print(greet[21])\n",
    "\n",
    "# Last character (-ve indexing)\n",
    "print(greet[-1])\n",
    "print(greet[-2])\n",
    "print(greet[-3])\n",
    "\n",
    "print(greet[-22]) # First Character\n",
    "# print(greet[22]) # IndexError: string index out of range\n"
   ]
  },
  {
   "cell_type": "code",
   "execution_count": 35,
   "metadata": {},
   "outputs": [
    {
     "name": "stdout",
     "output_type": "stream",
     "text": [
      "First Character : H\n",
      "Last Character : !\n",
      "Last Character : !\n",
      "Hel\n",
      "Hel\n",
      "Hl\n",
      "lo Rame\n",
      " m\n",
      "lo Ramesh !\n",
      "Hel\n",
      "Hello Ramesh !\n",
      "Hello \n",
      "sh !\n",
      "Hello Rame\n",
      "Hello Ramesh !\n"
     ]
    }
   ],
   "source": [
    "# String Slicing\n",
    "\n",
    "name = \"Hello Ramesh !\"\n",
    "size = len(name)\n",
    "print(\"First Character :\", name[0])\n",
    "print(\"Last Character :\", name[size-1])\n",
    "print(\"Last Character :\", name[-1])\n",
    "\n",
    "# name [start:stop:step] \n",
    "# start => starting index position, default : 0\n",
    "# stop => end index position, not counted in o/p, default : entire length\n",
    "# step => increment, deafult : 1\n",
    "\n",
    "print(name[0:3:1]) # start:0, stop:3, step: 1\n",
    "print(name[0:3]) # start:0, stop:3, step: default value\n",
    "print(name[0:3:2]) # start:0, stop:3, step: 2\n",
    "\n",
    "print(name[3:10]) # start:3, stop:10, step: 1\n",
    "\n",
    "print(name[5:10:3]) # start:5, stop:10, step: 3\n",
    "\n",
    "print(name[3:]) # start:3, stop: length, 14, step: 1     3:14:1\n",
    "\n",
    "print(name[:3]) # start:0, stop: 3, step: 1    0:3:1 \n",
    "\n",
    "print(name[::]) # start:0, stop: length, step: 1\n",
    "\n",
    "print(name[-14:-8]) # start: -14 , stop: -8, step: 1\n",
    "\n",
    "print(name[-4:]) # start: -4 , stop: length, step: 1\n",
    "\n",
    "print(name[:-4]) # start: 0 , stop: -4, step: 1\n",
    "\n",
    "print(name[:]) # start: 0 , stop: length, step: 1"
   ]
  },
  {
   "cell_type": "code",
   "execution_count": 37,
   "metadata": {},
   "outputs": [
    {
     "name": "stdout",
     "output_type": "stream",
     "text": [
      "Length :  22\n",
      "Original String :  Welcome to the event !\n",
      "Lower String :  welcome to the event !\n",
      "Upper String :  WELCOME TO THE EVENT !\n",
      "Cap String :  Welcome to the event !\n",
      "Title String :  Welcome To The Event !\n"
     ]
    }
   ],
   "source": [
    "# Inbuilt Functions \n",
    "\n",
    "greet = \"Welcome to the event !\"\n",
    "\n",
    "# len : no. of characters in a string\n",
    "nc = len(greet)\n",
    "print(\"Length : \", nc)\n",
    "\n",
    "# changing the case \n",
    "\n",
    "lw = greet.lower()\n",
    "up = greet.upper()\n",
    "cp = greet.capitalize()\n",
    "tl = greet.title()\n",
    "\n",
    "print(\"Original String : \", greet)\n",
    "print(\"Lower String : \", lw)\n",
    "print(\"Upper String : \", up)\n",
    "print(\"Cap String : \", cp)\n",
    "print(\"Title String : \", tl)"
   ]
  },
  {
   "cell_type": "code",
   "execution_count": 44,
   "metadata": {},
   "outputs": [
    {
     "name": "stdout",
     "output_type": "stream",
     "text": [
      "<class 'str'>\n",
      "['Welcome', 'to', 'the', 'event', '!']\n",
      "<class 'list'>\n",
      "Welcome\n",
      "to\n",
      "the\n",
      "event\n",
      "!\n",
      "['101', 'Ramesh', '12-10-2021', 'IT', 'Developer']\n"
     ]
    }
   ],
   "source": [
    "# Split : breaks the string into a list based on some delimiter (separator)\n",
    "\n",
    "greet = \"Welcome to the event !\"\n",
    "print(type(greet))\n",
    "\n",
    "splitGreet = greet.split(\" \")  # string => list\n",
    "print(splitGreet)\n",
    "print(type(splitGreet))\n",
    "\n",
    "print(splitGreet[0])  # Welcome\n",
    "print(splitGreet[1])  # to\n",
    "print(splitGreet[2])  # the\n",
    "print(splitGreet[3])  # event\n",
    "print(splitGreet[4])  # !\n",
    "\n",
    "\n",
    "empRecord = \"101|Ramesh|12-10-2021|IT|Developer\"\n",
    "empData = empRecord.split(\"|\")\n",
    "print(empData)"
   ]
  },
  {
   "cell_type": "code",
   "execution_count": 51,
   "metadata": {},
   "outputs": [
    {
     "name": "stdout",
     "output_type": "stream",
     "text": [
      "     101   |    Ramesh|    12-10-2021      |IT|Developer      \n",
      "101   |    Ramesh|    12-10-2021      |IT|Developer      \n",
      "     101   |    Ramesh|    12-10-2021      |IT|Developer\n",
      "101   |    Ramesh|    12-10-2021      |IT|Developer\n",
      "['     101   ', '    Ramesh', '    12-10-2021      ', 'IT', 'Developer      ']\n",
      "['101', 'Ramesh', '12-10-2021', 'IT', 'Developer']\n"
     ]
    }
   ],
   "source": [
    "# strip : removes the whitespace characters from beginning/end (trailing/leading)\n",
    "empRecord = \"     101   |    Ramesh|    12-10-2021      |IT|Developer      \"\n",
    "print(empRecord)\n",
    "stripedData = empRecord.lstrip()\n",
    "print(stripedData)\n",
    "\n",
    "stripedData = empRecord.rstrip()\n",
    "print(stripedData)\n",
    "\n",
    "stripedData = empRecord.strip()\n",
    "print(stripedData)\n",
    "\n",
    "\n",
    "# Removing the whitespaces from middle\n",
    "empData = empRecord.split(\"|\")\n",
    "print(empData)\n",
    "# Applying the strip at individual element level\n",
    "empList = [empData[0].strip(), empData[1].strip(), empData[2].strip(), empData[3].strip(), empData[4].strip(), ]\n",
    "\n",
    "print(empList)\n"
   ]
  },
  {
   "cell_type": "code",
   "execution_count": 2,
   "metadata": {},
   "outputs": [
    {
     "name": "stdout",
     "output_type": "stream",
     "text": [
      "The weather is good today !\n",
      "The weather is better today !\n"
     ]
    }
   ],
   "source": [
    "# String Replacement, replace()\n",
    "\n",
    "weather = 'The weather is good today !'\n",
    "print(weather)\n",
    "weather = weather.replace(\"good\", \"better\")\n",
    "print(weather)"
   ]
  },
  {
   "cell_type": "code",
   "execution_count": 12,
   "metadata": {},
   "outputs": [
    {
     "name": "stdout",
     "output_type": "stream",
     "text": [
      "Hello, My name is  Tushar . I enrolled for  Python\n",
      "Hello, My name is Tushar. I enrolled for Python\n",
      "Hello, My name is Tushar. I enrolled for Python\n",
      "Hello, My name is Tushar. I enrolled for Python. Python is very popular programming language\n",
      "Hello, My name is Python. I enrolled for Tushar\n",
      "Hello, My name is Tushar. I enrolled for Python\n"
     ]
    }
   ],
   "source": [
    "# String Formatters, format()\n",
    "\n",
    "name = 'Tushar'\n",
    "course = 'Python'\n",
    "\n",
    "print(\"Hello, My name is \", name, \". I enrolled for \", course) # Not recommended \n",
    "\n",
    "greet = \"Hello, My name is {}. I enrolled for {}\".format(name, course)   # {} => placeholder\n",
    "print(greet)\n",
    "\n",
    "greet = \"Hello, My name is {0}. I enrolled for {1}\".format(name, course)   # {} => placeholder\n",
    "print(greet)\n",
    "\n",
    "greet = \"Hello, My name is {0}. I enrolled for {1}. {1} is very popular programming language\".format(name, course)   # {} => placeholder\n",
    "print(greet)\n",
    "\n",
    "greet = \"Hello, My name is {1}. I enrolled for {0}\".format(name, course)   # {} => placeholder\n",
    "print(greet)\n",
    "\n",
    "greet = \"Hello, My name is {nm}. I enrolled for {cs}\".format(nm=name, cs=course)   # {} => placeholder\n",
    "print(greet)\n"
   ]
  },
  {
   "cell_type": "code",
   "execution_count": 26,
   "metadata": {},
   "outputs": [
    {
     "name": "stdout",
     "output_type": "stream",
     "text": [
      "True\n",
      "False\n",
      "True\n",
      "True\n",
      "False\n",
      "True\n",
      "False\n",
      "True\n",
      "False\n",
      "False\n",
      "True\n",
      "True\n",
      "True\n",
      "False\n",
      "False\n"
     ]
    }
   ],
   "source": [
    "# More inbuilts\n",
    "\n",
    "str = \"hfjhfjdshjn\"\n",
    "print(str.isalpha()) # only alphabets\n",
    "\n",
    "str = \"hfjhf1767jdshjn\"\n",
    "print(str.isalpha()) # only alphabets\n",
    "\n",
    "str = \"hfjhfjdshjn\"\n",
    "print(str.isalnum()) # only alphabets + numbers\n",
    "\n",
    "str = \"hfjhfjdshjn76865\"\n",
    "print(str.isalnum()) # only alphabets + numbers\n",
    "\n",
    "str = \"hfjhfjdshjn\"\n",
    "print(str.isdigit()) # only digits\n",
    "\n",
    "str = \"1234\"\n",
    "print(str.isdigit()) # only digits\n",
    "\n",
    "str = \"hfjhfjdshjn\"\n",
    "print(str.isupper())\n",
    "\n",
    "str = \"hfjhfjdshjn\"\n",
    "print(str.islower())\n",
    "\n",
    "str = \"hfjhfjdshjn\"\n",
    "print(str.isnumeric())\n",
    "\n",
    "str = \"hfjhfjdshjn234\"\n",
    "print(str.isnumeric())\n",
    "\n",
    "str = \"36454\"\n",
    "print(str.isnumeric())\n",
    "\n",
    "str = \"41\"\n",
    "print(str.isdigit())\n",
    "print(str.isnumeric())\n",
    "\n",
    "str = \"4.1\"\n",
    "print(str.isdigit())\n",
    "print(str.isnumeric())  #QQ\n"
   ]
  },
  {
   "cell_type": "code",
   "execution_count": 28,
   "metadata": {},
   "outputs": [
    {
     "name": "stdout",
     "output_type": "stream",
     "text": [
      "welcome\n",
      "Welcome\n"
     ]
    }
   ],
   "source": [
    "# Changing the case, swapcase()\n",
    "\n",
    "greet = \"WELCOME\"\n",
    "print(greet.swapcase())\n",
    "\n",
    "greet = \"wELCOME\"\n",
    "print(greet.swapcase())"
   ]
  },
  {
   "cell_type": "code",
   "execution_count": 31,
   "metadata": {},
   "outputs": [
    {
     "name": "stdout",
     "output_type": "stream",
     "text": [
      "37\n",
      "37\n",
      "-1\n",
      "degrees\n"
     ]
    }
   ],
   "source": [
    "# Search Fumctionality\n",
    "\n",
    "# find() => return -1 if search string is not present, else gives the starting index of the string\n",
    "# index() => error out if not present, else gives the starting index of the string\n",
    "\n",
    "temp = \"The temperature on 19-10-2024 was 32 degrees\"\n",
    "\n",
    "searchString = \"degrees\"\n",
    "print(temp.find(searchString))\n",
    "print(temp.index(searchString))\n",
    "\n",
    "searchString = \"amount\"\n",
    "print(temp.find(searchString))  #return -1 if search string is not present \n",
    "#print(temp.index(searchString)) # error out if not present\n",
    "\n",
    "\n",
    "# Extract the string \n",
    "searchString = \"degrees\"\n",
    "startIndex = temp.find(searchString)\n",
    "length = len(searchString)\n",
    "\n",
    "endIndex = startIndex + length\n",
    "\n",
    "print(temp[startIndex:endIndex])  #Extract searchString from source string\n",
    "\n",
    "\n",
    "\n",
    "\n"
   ]
  },
  {
   "cell_type": "code",
   "execution_count": 32,
   "metadata": {},
   "outputs": [
    {
     "name": "stdout",
     "output_type": "stream",
     "text": [
      "Raj Mehra\n"
     ]
    }
   ],
   "source": [
    "# Join the strings, join()\n",
    "\n",
    "fname = \"Raj\"\n",
    "lname = \"Mehra\"\n",
    "\n",
    "mylist = [fname, lname]\n",
    "\n",
    "print(\" \".join(mylist))"
   ]
  },
  {
   "cell_type": "code",
   "execution_count": 48,
   "metadata": {},
   "outputs": [
    {
     "name": "stdout",
     "output_type": "stream",
     "text": [
      "65\n",
      "A\n",
      ";\n",
      "A\n",
      "٧\n"
     ]
    }
   ],
   "source": [
    "# ord and chr\n",
    "\n",
    "# ord => returns the unicode representation of a given charcter\n",
    "# chr => gives the character back\n",
    "\n",
    "print(ord('A'))\n",
    "\n",
    "print(chr(65))\n",
    "\n",
    "print(chr(59))\n",
    "\n",
    "print('\\u0041')  # A\n",
    "print('\\u0667') # Arabic numeral 7"
   ]
  }
 ],
 "metadata": {
  "kernelspec": {
   "display_name": "base",
   "language": "python",
   "name": "python3"
  },
  "language_info": {
   "codemirror_mode": {
    "name": "ipython",
    "version": 3
   },
   "file_extension": ".py",
   "mimetype": "text/x-python",
   "name": "python",
   "nbconvert_exporter": "python",
   "pygments_lexer": "ipython3",
   "version": "3.12.4"
  }
 },
 "nbformat": 4,
 "nbformat_minor": 2
}
