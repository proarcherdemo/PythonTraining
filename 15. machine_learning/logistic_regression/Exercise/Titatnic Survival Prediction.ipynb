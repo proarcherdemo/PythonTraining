{
 "cells": [
  {
   "cell_type": "code",
   "execution_count": null,
   "id": "7a24e06d",
   "metadata": {},
   "outputs": [],
   "source": [
    "# https://archive.ics.uci.edu/dataset/53/iris"
   ]
  },
  {
   "cell_type": "code",
   "execution_count": null,
   "id": "70dcfdcb",
   "metadata": {},
   "outputs": [],
   "source": [
    "# Participate in the competition\n",
    "\n",
    "# https://www.kaggle.com/competitions/titanic/overview"
   ]
  },
  {
   "cell_type": "code",
   "execution_count": null,
   "id": "3cd88b8e",
   "metadata": {},
   "outputs": [],
   "source": [
    "# Mertrics To be derive \n",
    "\n",
    "# 1. Confusion Metrics : Explain your findings \n",
    "# 2. Accuracy : Explain your findings \n",
    "# 3. Precision  : Explain your findings \n",
    "# 4. Recall/Sensitivity : Explain your findings "
   ]
  }
 ],
 "metadata": {
  "language_info": {
   "name": "python"
  }
 },
 "nbformat": 4,
 "nbformat_minor": 5
}
