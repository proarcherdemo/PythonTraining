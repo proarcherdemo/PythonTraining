{
 "cells": [
  {
   "cell_type": "code",
   "execution_count": 1,
   "id": "88bb688f",
   "metadata": {},
   "outputs": [
    {
     "name": "stdout",
     "output_type": "stream",
     "text": [
      "✅ Dataset with cleaning challenges saved as simulated_housing_data_dirty.csv\n"
     ]
    }
   ],
   "source": [
    "import pandas as pd\n",
    "import numpy as np\n",
    "\n",
    "np.random.seed(42)\n",
    "n = 1000\n",
    "\n",
    "# Core structured data\n",
    "df = pd.DataFrame({\n",
    "    \"Price\": np.random.normal(300000, 75000, n).round(-3),\n",
    "    \"Area\": np.random.normal(2000, 500, n).round(),\n",
    "    \"Bedrooms\": np.random.randint(2, 6, n),\n",
    "    \"Bathrooms\": np.random.randint(1, 4, n),\n",
    "    \"Garage\": np.random.randint(0, 3, n),\n",
    "    \"Age\": np.random.randint(0, 50, n),\n",
    "    \"Location\": np.random.choice(\n",
    "        [\"Downtown\", \"downtown\", \"Down Town\", \"Suburb\", \"suburb\", \"Rural\", \"Midtown\"], n\n",
    "    ),\n",
    "    \"Distance_to_city\": np.random.normal(10, 5, n).clip(0.5).round(2),\n",
    "    \"Crime_Rate\": np.random.normal(3, 1.5, n).clip(0).round(2),\n",
    "    \"School_Rating\": np.random.randint(1, 11, n)\n",
    "})\n",
    "\n",
    "# Date field with noise\n",
    "df[\"Date_Sold\"] = pd.to_datetime(\"2023-01-01\") + pd.to_timedelta(np.random.randint(0, 730, n), unit='D')\n",
    "df.loc[np.random.choice(df.index, 25, replace=False), \"Date_Sold\"] = None  # inject missing dates\n",
    "\n",
    "# HOA Fees with missing values\n",
    "df[\"HOA_Fees\"] = np.where(df[\"Location\"].str.lower().str.contains(\"downtown\"),\n",
    "                          np.random.normal(250, 50, n),\n",
    "                          np.where(df[\"Location\"].str.lower().str.contains(\"suburb\"),\n",
    "                                   np.random.normal(150, 30, n),\n",
    "                                   np.nan)).round(2)\n",
    "df.loc[np.random.choice(df.index, 50, replace=False), \"HOA_Fees\"] = None  # extra NaNs\n",
    "\n",
    "# Binary flags (some typos + noise)\n",
    "df[\"Has_Basement\"] = np.random.choice([\"Yes\", \"No\", \"Y\", \"N\", \"yes\", \"no\", None], n, p=[0.3, 0.3, 0.1, 0.1, 0.05, 0.1, 0.05])\n",
    "df[\"Pool\"] = np.random.choice([\"Yes\", \"No\", \"Unknown\", \"yes\", \"no\", None], n, p=[0.15, 0.65, 0.05, 0.05, 0.05, 0.05])\n",
    "\n",
    "# Text field with mess\n",
    "df[\"Description\"] = np.random.choice([\n",
    "    \"Recently renovated with modern finishes.\",\n",
    "    \"Needs some TLC but great potential.\",\n",
    "    \"close to public transport and schools.\",\n",
    "    \"LARGE BACKYARD and spacious living area.\",\n",
    "    np.nan,\n",
    "    \"Quiet neighborhood; low crime-rate!\",\n",
    "    \"needs-work\"\n",
    "], n)\n",
    "\n",
    "# Outliers for Price and Area\n",
    "outlier_indices = np.random.choice(df.index, 10, replace=False)\n",
    "df.loc[outlier_indices, \"Price\"] *= 4\n",
    "df.loc[outlier_indices, \"Area\"] *= 3\n",
    "\n",
    "# Duplicates\n",
    "dupes = df.sample(5, random_state=1)\n",
    "df = pd.concat([df, dupes], ignore_index=True)\n",
    "\n",
    "# Save to CSV\n",
    "df.to_csv(\"simulated_housing_data_dirty.csv\", index=False)\n",
    "print(\"✅ Dataset with cleaning challenges saved as simulated_housing_data_dirty.csv\")\n"
   ]
  }
 ],
 "metadata": {
  "kernelspec": {
   "display_name": "base",
   "language": "python",
   "name": "python3"
  },
  "language_info": {
   "codemirror_mode": {
    "name": "ipython",
    "version": 3
   },
   "file_extension": ".py",
   "mimetype": "text/x-python",
   "name": "python",
   "nbconvert_exporter": "python",
   "pygments_lexer": "ipython3",
   "version": "3.12.4"
  }
 },
 "nbformat": 4,
 "nbformat_minor": 5
}
