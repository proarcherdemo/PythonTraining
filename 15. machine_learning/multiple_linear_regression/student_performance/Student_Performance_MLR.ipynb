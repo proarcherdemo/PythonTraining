{
 "cells": [
  {
   "cell_type": "code",
   "execution_count": null,
   "id": "79b659e1",
   "metadata": {},
   "outputs": [],
   "source": [
    "# https://archive.ics.uci.edu/dataset/320/student+performance\n",
    "# https://www.kaggle.com/datasets/larsen0966/student-performance-data-set"
   ]
  },
  {
   "cell_type": "code",
   "execution_count": null,
   "id": "526144bb",
   "metadata": {},
   "outputs": [],
   "source": []
  }
 ],
 "metadata": {
  "kernelspec": {
   "display_name": "base",
   "language": "python",
   "name": "python3"
  },
  "language_info": {
   "codemirror_mode": {
    "name": "ipython",
    "version": 3
   },
   "file_extension": ".py",
   "mimetype": "text/x-python",
   "name": "python",
   "nbconvert_exporter": "python",
   "pygments_lexer": "ipython3",
   "version": "3.12.4"
  }
 },
 "nbformat": 4,
 "nbformat_minor": 5
}
